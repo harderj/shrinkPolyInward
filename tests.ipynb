{
 "cells": [
  {
   "cell_type": "code",
   "execution_count": null,
   "metadata": {
    "dotnet_interactive": {
     "language": "csharp"
    }
   },
   "outputs": [],
   "source": [
    "using System;\n",
    "using System.Collections;\n",
    "using System.Collections.Generic;\n",
    "using System.Linq;\n",
    "using System.Numerics;\n",
    "\n",
    "public static class Geometry\n",
    "{\n",
    "\n",
    "\t/// <summary>\n",
    "\t/// Shrink a polygon with anti-clockwise winding by moving its edges inwards.\n",
    "\t/// Outputs a list of anti-clockwise winded polygons and returns a success flag.\n",
    "\t/// </summary>\n",
    "\tpublic static bool OffsetPolygonInwards(\n",
    "\t\tIList<Vector2> polygonPoints, float offset, out List<List<Vector2>> polygons )\n",
    "\t{\n",
    "\t\tpolygons = new List<List<Vector2>>();\n",
    "\t\t\n",
    "\t\tpolygons = ShrinkEdges(polygonPoints.ToList(), offset);\n",
    "\t\t\n",
    "\t\tbool success = true;\n",
    "\n",
    "\t\treturn success;\n",
    "\t}\n",
    "\n",
    "\tpublic static float Cross2(Vector2 v, Vector2 w)\n",
    "\t\t=> Vector3.Cross(new Vector3(v, 0), new Vector3(w, 0)).Z;\n",
    "\n",
    "\tpublic static List<(int, int, int)> Triples(int n)\n",
    "\t{\n",
    "\t\tvar p = Enumerable.Range(0, n).ToList();\n",
    "\t\tvar a = Enumerable.Range(0, n).ToList();\n",
    "\t\tvar b = a.Select(x => (x + 1) % n).ToList();\n",
    "\t\tvar res = new List<(int, int, int)>();\n",
    "\t\tforeach (int i in p){\n",
    "\t\t\tforeach (int j in a){\n",
    "\t\t\t\tvar k = (j + 1) % n;\n",
    "\t\t\t\tif (j != (i - 1 + n) % n && k != (i + 1) % n)\n",
    "\t\t\t\t\tres.Add((i, j, k));\n",
    "\t\t\t}\n",
    "\t\t}\n",
    "\t\treturn res;\n",
    "\t}\n",
    "\n",
    "\tpublic static List<int> SplitPolyL(int pi, int ai, int n)\n",
    "    => Enumerable.Range(pi, n).Select(i => i % n).TakeWhile(i => i != ai).Append(ai).ToList();\n",
    "\n",
    "\tpublic static List<int> SplitPolyR(int pi, int bi, int n)\n",
    "    => Enumerable.Range(bi, n).Select(i => i % n).TakeWhile(i => i != pi).Append(pi).ToList();\n",
    "  \n",
    "  public static List<float> RootsDeg2(float a, float b, float c)\n",
    "  {\n",
    "    var d = b * b - 4 * a * c;\n",
    "    if (d < 0) return new List<float>();\n",
    "    var e = - b / (2 * a);\n",
    "    if (d == 0) return new List<float>() { e };\n",
    "    var x = (float) (e + Math.Sqrt(d / (2 * a)));\n",
    "    var y = (float) (e - Math.Sqrt(d / (2 * a)));\n",
    "    return new List<float>() { x, y };\n",
    "  }\n",
    "\n",
    "\tpublic static List<float> LineSegCol(Vector2 a0, Vector2 b0, Vector2 va, Vector2 vb)\n",
    "\t{\n",
    "    const float threshold = 0.001f;\n",
    "    var ca = Cross2(va, vb);\n",
    "    var cb = Cross2(a0, vb) - Cross2(b0, va);\n",
    "    var cc = Cross2(a0, b0);\n",
    "    var roots = RootsDeg2(ca, cb, cc);\n",
    "    Func<float, bool> cond2 = t => Vector2.Dot(a0 + va * t, b0 + vb * t) < threshold;\n",
    "    return roots.Where(t => (t > -threshold) && (cond2(t))).ToList();\n",
    "\t}\n",
    "\n",
    "\tpublic static List<List<Vector2>> SimpleScale(IEnumerable<Vector2> polyIn, float offset)\n",
    "\t\t=> new List<List<Vector2>>() { polyIn.Select(x => x * offset).ToList() };\n",
    "\t\n",
    "\t\n",
    "\t\n",
    "\tpublic static List<List<Vector2>> ShrinkEdges(List<Vector2> p, float t, int iter = 0)\n",
    "\t{\n",
    "\t\tint debugN = 0;\n",
    "\t\tint n = p.Count();\n",
    "\t\tconst int maxIter = 10;\n",
    "\t\tif (iter > maxIter || n < 3) return new List<List<Vector2>>(); \n",
    "\t\titer ++;\n",
    "\t\tConsole.Write(debugN.ToString()); debugN ++; // 0\n",
    "\t\tvar nl = p.Select((x, i) => p[(i - 1 + n) % n]);\n",
    "\t\tConsole.Write(debugN.ToString()); debugN ++; // 1\n",
    "\t\tvar nr = p.Select((x, i) => p[(i + 1) % n]);\n",
    "\t\tConsole.Write(debugN.ToString()); debugN ++; // 2\n",
    "\t\tvar vl = nl.Select((x, i) => Vector2.Normalize(x - p[i])).ToList();\n",
    "\t\tConsole.Write(debugN.ToString()); debugN ++; // 3\n",
    "\t\tvar vr = nr.Select((x, i) => Vector2.Normalize(x - p[i])).ToList();\n",
    "\t\tConsole.Write(debugN.ToString()); debugN ++; // 4\n",
    "\t\tvar cp = vl.Select((x, i) => Cross2(x, vr[i])).ToList();\n",
    "\t\tConsole.Write(debugN.ToString()); debugN ++; // 5\n",
    "\t\tvar vd = vl.Select((x, i) => (x + vr[i]) / cp[i]).ToList();\n",
    "\t\tConsole.Write(debugN.ToString()); debugN ++; // 6\n",
    "\t\tvar triples = Triples(n);\n",
    "\t\tConsole.Write(debugN.ToString()); debugN ++; // 7\n",
    "\t\tvar cols = triples.SelectMany((trpl) => {\n",
    "\t\t\tvar (i, j, k) = trpl;\n",
    "\t\t\tvar rs = LineSegCol(\n",
    "\t\t\t\tp[j] - p[i],\n",
    "\t\t\t\tp[k] - p[i],\n",
    "\t\t\t\tvd[j] - vd[i],\n",
    "\t\t\t\tvd[k] - vd[i]);\n",
    "\t\t\treturn rs.Select(r => (i, j, k, r, (p[i] + vd[i]) * r)).ToList();\n",
    "\t\t});\n",
    "\t\tConsole.Write(debugN.ToString()); debugN ++; // 8\n",
    "    Func<float, List<Vector2>> ptt = t => p.Select((v, i) => v + vd[i] * t).ToList();\n",
    "\t\tConsole.Write(debugN.ToString()); debugN ++; // 9\n",
    "    if (cols.Count() == 0) return new List<List<Vector2>>() { ptt(t) };\n",
    "    else {\n",
    "\t\t\tConsole.Write(debugN.ToString()); debugN ++; // 10\n",
    "      var (fpi, fai, fbi, ft, fcp) = cols.OrderBy(x => x.Item4).First();\n",
    "\t\t\tConsole.Write(debugN.ToString()); debugN ++; // 11\n",
    "      if (ft < t) return new List<List<Vector2>>() { ptt(t) };\n",
    "      else {\n",
    "\t\t\t\tConsole.Write(debugN.ToString()); debugN ++; // 12\n",
    "        var pft = ptt(ft);\n",
    "\t\t\t\tConsole.Write(debugN.ToString()); debugN ++; // 13\n",
    "        var polyL = SplitPolyL(fpi, fai, n).Select(i => pft[i]).ToList();\n",
    "\t\t\t\tConsole.Write(debugN.ToString()); debugN ++; // 14\n",
    "        var polyR = SplitPolyR(fpi, fai, n).Select(i => pft[i]).ToList();\n",
    "\t\t\t\tConsole.Write(debugN.ToString()); debugN ++; // 15\n",
    "        return ShrinkEdges(polyL, t - ft, iter).Concat(ShrinkEdges(polyR, t - ft, iter)).ToList();\n",
    "      }\n",
    "    }\n",
    "\t}\n",
    "}"
   ]
  },
  {
   "cell_type": "code",
   "execution_count": null,
   "metadata": {
    "dotnet_interactive": {
     "language": "csharp"
    }
   },
   "outputs": [
    {
     "name": "stdout",
     "output_type": "stream",
     "text": [
      "0123456789"
     ]
    },
    {
     "data": {
      "text/html": [
       "<table><thead><tr><th><i>index</i></th><th>value</th></tr></thead><tbody><tr><td>0</td><td><div class=\"dni-plaintext\">[ { &lt;1.4485283, 0.6&gt;: X: 1.4485283, Y: 0.6 }, { &lt;0.39999998, -0.4485283&gt;: X: 0.39999998, Y: -0.4485283 }, { &lt;0.39999998, 1.4485279&gt;: X: 0.39999998, Y: 1.4485279 }, { &lt;0.89999986, 0.94852823&gt;: X: 0.89999986, Y: 0.94852823 }, { &lt;0.55147177, 0.6&gt;: X: 0.55147177, Y: 0.6 } ]</div></td></tr></tbody></table>"
      ]
     },
     "metadata": {},
     "output_type": "display_data"
    }
   ],
   "source": [
    "var poly1 = (new List<(float, float)> { (0, 0), (1, 1), (1, 0), (0.9f, 0.1f), (0.8f, 0.0f) })\n",
    "  .Select(x => new Vector2(x.Item1, x.Item2)).ToList();\n",
    "\n",
    "Geometry.ShrinkEdges(poly1, 0.6f)"
   ]
  },
  {
   "cell_type": "code",
   "execution_count": null,
   "metadata": {
    "dotnet_interactive": {
     "language": "csharp"
    }
   },
   "outputs": [
    {
     "data": {
      "text/html": [
       "<div class=\"dni-plaintext\">4</div>"
      ]
     },
     "metadata": {},
     "output_type": "display_data"
    }
   ],
   "source": [
    "(int, int, int, int) x = (1,2,3,4);\n",
    "var (y,z,v,w) = x;\n",
    "x.Item4"
   ]
  },
  {
   "cell_type": "code",
   "execution_count": null,
   "metadata": {
    "dotnet_interactive": {
     "language": "csharp"
    }
   },
   "outputs": [
    {
     "data": {
      "text/html": [
       "<div class=\"dni-plaintext\">-1</div>"
      ]
     },
     "metadata": {},
     "output_type": "display_data"
    }
   ],
   "source": [
    "-1 % 10"
   ]
  },
  {
   "cell_type": "code",
   "execution_count": null,
   "metadata": {
    "dotnet_interactive": {
     "language": "csharp"
    }
   },
   "outputs": [
    {
     "data": {
      "text/html": [
       "<table><thead><tr><th><i>index</i></th><th>Item1</th><th>Item2</th><th>Item3</th></tr></thead><tbody><tr><td>0</td><td><div class=\"dni-plaintext\">0</div></td><td><div class=\"dni-plaintext\">1</div></td><td><div class=\"dni-plaintext\">2</div></td></tr><tr><td>1</td><td><div class=\"dni-plaintext\">0</div></td><td><div class=\"dni-plaintext\">2</div></td><td><div class=\"dni-plaintext\">3</div></td></tr><tr><td>2</td><td><div class=\"dni-plaintext\">1</div></td><td><div class=\"dni-plaintext\">2</div></td><td><div class=\"dni-plaintext\">3</div></td></tr><tr><td>3</td><td><div class=\"dni-plaintext\">1</div></td><td><div class=\"dni-plaintext\">3</div></td><td><div class=\"dni-plaintext\">0</div></td></tr><tr><td>4</td><td><div class=\"dni-plaintext\">2</div></td><td><div class=\"dni-plaintext\">0</div></td><td><div class=\"dni-plaintext\">1</div></td></tr><tr><td>5</td><td><div class=\"dni-plaintext\">2</div></td><td><div class=\"dni-plaintext\">3</div></td><td><div class=\"dni-plaintext\">0</div></td></tr><tr><td>6</td><td><div class=\"dni-plaintext\">3</div></td><td><div class=\"dni-plaintext\">0</div></td><td><div class=\"dni-plaintext\">1</div></td></tr><tr><td>7</td><td><div class=\"dni-plaintext\">3</div></td><td><div class=\"dni-plaintext\">1</div></td><td><div class=\"dni-plaintext\">2</div></td></tr></tbody></table>"
      ]
     },
     "metadata": {},
     "output_type": "display_data"
    }
   ],
   "source": [
    "Geometry.Triples(4)"
   ]
  },
  {
   "cell_type": "code",
   "execution_count": null,
   "metadata": {
    "dotnet_interactive": {
     "language": "csharp"
    }
   },
   "outputs": [
    {
     "data": {
      "text/html": [
       "<table><thead><tr><th><i>index</i></th><th>Item1</th><th>Item2</th></tr></thead><tbody><tr><td>0</td><td><div class=\"dni-plaintext\">1</div></td><td><div class=\"dni-plaintext\">0</div></td></tr><tr><td>1</td><td><div class=\"dni-plaintext\">2</div></td><td><div class=\"dni-plaintext\">1</div></td></tr><tr><td>2</td><td><div class=\"dni-plaintext\">3</div></td><td><div class=\"dni-plaintext\">2</div></td></tr><tr><td>3</td><td><div class=\"dni-plaintext\">4</div></td><td><div class=\"dni-plaintext\">3</div></td></tr><tr><td>4</td><td><div class=\"dni-plaintext\">5</div></td><td><div class=\"dni-plaintext\">4</div></td></tr></tbody></table>"
      ]
     },
     "metadata": {},
     "output_type": "display_data"
    }
   ],
   "source": [
    "(new List<int>() {1, 2, 3, 4, 5} ).Select((x, i) => (x, i)).ToList()"
   ]
  },
  {
   "cell_type": "code",
   "execution_count": null,
   "metadata": {
    "dotnet_interactive": {
     "language": "csharp"
    }
   },
   "outputs": [
    {
     "name": "stdout",
     "output_type": "stream",
     "text": [
      "eheee\n"
     ]
    }
   ],
   "source": [
    "float x = 1;\n",
    "Console.Write(\"eheee\");"
   ]
  },
  {
   "cell_type": "code",
   "execution_count": null,
   "metadata": {
    "dotnet_interactive": {
     "language": "csharp"
    }
   },
   "outputs": [],
   "source": []
  }
 ],
 "metadata": {
  "kernelspec": {
   "display_name": ".NET (C#)",
   "language": "C#",
   "name": ".net-csharp"
  },
  "language_info": {
   "name": "C#"
  }
 },
 "nbformat": 4,
 "nbformat_minor": 2
}
