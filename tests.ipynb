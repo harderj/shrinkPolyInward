{
 "cells": [
  {
   "cell_type": "code",
   "execution_count": null,
   "metadata": {
    "dotnet_interactive": {
     "language": "csharp"
    }
   },
   "outputs": [
    {
     "data": {
      "text/html": [
       "<table><thead><tr><th>Item1</th><th>Item2</th><th>Item3</th></tr></thead><tbody><tr><td><div class=\"dni-plaintext\">False</div></td><td><div class=\"dni-plaintext\">False</div></td><td><div class=\"dni-plaintext\">True</div></td></tr></tbody></table>"
      ]
     },
     "metadata": {},
     "output_type": "display_data"
    }
   ],
   "source": [
    "using System;\n",
    "using System.Numerics;\n",
    "\n",
    "public static bool Clockwise(List<Vector2> vs) // TODO: or counter-clockwise? :O\n",
    "{\n",
    "\tvar n = vs.Count;\n",
    "\tvar us = vs.Select((x, i) => vs[(i + 1) % n]).ToList();\n",
    "\treturn 0 < vs.Select((v, i) => (us[i].X - v.X) * (us[i].Y + v.Y)).Sum();\n",
    "}\n",
    "\n",
    "public static float Cross2(Vector2 v, Vector2 w)\n",
    "\t\t=> Vector3.Cross(new Vector3(v.X, v.Y, 0), new Vector3(w.X, w.Y, 0)).Z;\n",
    "\n",
    "public static float Cross2_(Vector2 v, Vector2 w)\n",
    "\t=> (v.X * w.Y - v.Y * w.X);\n",
    "\n",
    "public static bool ClockW2(List<Vector2> vs)\n",
    "{\n",
    "  var n = vs.Count;\n",
    "  var minY = vs.Select(x => x.Y).Min();\n",
    "  var (a, i) = vs.Select((x, i) => (x, i)).Where(x => x.Item1.Y == minY).MinBy(x => x.Item1.X);\n",
    "  var b = vs[(i - 1 + n) % n];\n",
    "  var c = vs[(i + 1) % n];\n",
    "  return Cross2(b - a, c - a) > 0;\n",
    "  // Console.Write(mn.ToString());\n",
    "  // throw new NotImplementedException();\n",
    "}\n",
    "\n",
    "// p1 is oriented counter-clockwise\n",
    "var p1 = (new List<(float, float)>() { (5, 0), (6, 4), (4, 5), (1, 5), (1, 0) })\n",
    "  .Select(x => new Vector2(x.Item1, x.Item2)).ToList();\n",
    "\n",
    "//Clockwise(p1);\n",
    "(Clockwise(p1), ClockW2(p1), Cross2(p1[0], p1[1]) == Cross2_(p1[0], p1[1]))"
   ]
  }
 ],
 "metadata": {
  "kernelspec": {
   "display_name": ".NET (C#)",
   "language": "C#",
   "name": ".net-csharp"
  },
  "language_info": {
   "name": "C#"
  }
 },
 "nbformat": 4,
 "nbformat_minor": 2
}
